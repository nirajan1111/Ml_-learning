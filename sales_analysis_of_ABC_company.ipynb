{
  "nbformat": 4,
  "nbformat_minor": 0,
  "metadata": {
    "colab": {
      "provenance": [],
      "authorship_tag": "ABX9TyPJQQnmvPgFxV4f2BSe4AtT",
      "include_colab_link": true
    },
    "kernelspec": {
      "name": "python3",
      "display_name": "Python 3"
    },
    "language_info": {
      "name": "python"
    }
  },
  "cells": [
    {
      "cell_type": "markdown",
      "metadata": {
        "id": "view-in-github",
        "colab_type": "text"
      },
      "source": [
        "<a href=\"https://colab.research.google.com/github/nirajan1111/Ml_-learning/blob/main/sales_analysis_of_ABC_company.ipynb\" target=\"_parent\"><img src=\"https://colab.research.google.com/assets/colab-badge.svg\" alt=\"Open In Colab\"/></a>"
      ]
    },
    {
      "cell_type": "code",
      "execution_count": 1,
      "metadata": {
        "colab": {
          "base_uri": "https://localhost:8080/"
        },
        "id": "7itsuj5azb_t",
        "outputId": "5d19d950-3a6d-42be-e025-a8a416c927e8"
      },
      "outputs": [
        {
          "output_type": "stream",
          "name": "stdout",
          "text": [
            "Mounted at /content/gdrive\n"
          ]
        }
      ],
      "source": [
        "from google.colab import drive\n",
        "drive.mount(\"/content/gdrive\")"
      ]
    },
    {
      "cell_type": "code",
      "source": [
        "import numpy as np\n",
        "import pandas as pd\n",
        "import matplotlib.pyplot as plt\n",
        "from scipy.stats import skew, kurtosis\n",
        "import warnings\n",
        "warnings.filterwarnings('ignore')"
      ],
      "metadata": {
        "id": "P_jCmMM02ygi"
      },
      "execution_count": 2,
      "outputs": []
    },
    {
      "cell_type": "code",
      "source": [
        "#Write a python program to merge data from each month into one CSV and read in updated dataframe.\n",
        "\n",
        "# Setting the directory where the data are avaiable\n",
        "directory = '/content/gdrive/MyDrive/sales_data/'\n",
        "\n",
        "# Initializing an empty list \n",
        "dfs = []\n",
        "\n",
        "# Looping through each month\n",
        "for month in [\"January\",\"February\",\"March\",\"April\",\"May\",\"June\",\"July\",\"August\",\"September\",\"October\",\"November\",\"December\"\n",
        "]:\n",
        "    # Constructing the filename for the monthly CSV file\n",
        "    filename = f'Sales_{month}_2019.csv'\n",
        "    file_path = directory + filename\n",
        "    \n",
        "    # Reading in the CSV file as a dataframe and append it \n",
        "    df = pd.read_csv(file_path)\n",
        "    dfs.append(df)\n",
        "\n",
        "# Concatenating all the dataframes into a single dataframe\n",
        "merged_df = pd.concat(dfs)\n",
        "merged_df.to_csv('merged_car_sales_data', index=False)\n",
        "\n",
        "# Reading in the updated dataframe\n",
        "updated_df = pd.read_csv('merged_car_sales_data')"
      ],
      "metadata": {
        "id": "xeilHROw3J_h"
      },
      "execution_count": 6,
      "outputs": []
    },
    {
      "cell_type": "code",
      "source": [
        "updated_df"
      ],
      "metadata": {
        "colab": {
          "base_uri": "https://localhost:8080/",
          "height": 424
        },
        "id": "99vIRwEz4Z67",
        "outputId": "47a1422c-a31c-48ee-bed5-e33099d0bf2c"
      },
      "execution_count": 7,
      "outputs": [
        {
          "output_type": "execute_result",
          "data": {
            "text/plain": [
              "        Order ID                     Product  Quantity Ordered  Price Each  \\\n",
              "0       141234.0                      iPhone               1.0      700.00   \n",
              "1       141235.0    Lightning Charging Cable               1.0       14.95   \n",
              "2       141236.0            Wired Headphones               2.0       11.99   \n",
              "3       141237.0            27in FHD Monitor               1.0      149.99   \n",
              "4       141238.0            Wired Headphones               1.0       11.99   \n",
              "...          ...                         ...               ...         ...   \n",
              "186845  319666.0    Lightning Charging Cable               1.0       14.95   \n",
              "186846  319667.0       AA Batteries (4-pack)               2.0        3.84   \n",
              "186847  319668.0             Vareebadd Phone               1.0      400.00   \n",
              "186848  319669.0            Wired Headphones               1.0       11.99   \n",
              "186849  319670.0  Bose SoundSport Headphones               1.0       99.99   \n",
              "\n",
              "              Order Date                        Purchase Address  \n",
              "0        1/22/2019 21:25         944 Walnut St, Boston, MA 02215  \n",
              "1        1/28/2019 14:15        185 Maple St, Portland, OR 97035  \n",
              "2        1/17/2019 13:33   538 Adams St, San Francisco, CA 94016  \n",
              "3         1/5/2019 20:33      738 10th St, Los Angeles, CA 90001  \n",
              "4        1/25/2019 11:59           387 10th St, Austin, TX 73301  \n",
              "...                  ...                                     ...  \n",
              "186845  12/11/2019 20:58  14 Madison St, San Francisco, CA 94016  \n",
              "186846   12/1/2019 12:01    549 Willow St, Los Angeles, CA 90001  \n",
              "186847    12/9/2019 6:43        273 Wilson St, Seattle, WA 98101  \n",
              "186848   12/3/2019 10:39          778 River St, Dallas, TX 75001  \n",
              "186849  12/21/2019 21:45  747 Chestnut St, Los Angeles, CA 90001  \n",
              "\n",
              "[186850 rows x 6 columns]"
            ],
            "text/html": [
              "\n",
              "  <div id=\"df-4b6be83c-f0ec-4ad3-9808-923894fd3ed1\">\n",
              "    <div class=\"colab-df-container\">\n",
              "      <div>\n",
              "<style scoped>\n",
              "    .dataframe tbody tr th:only-of-type {\n",
              "        vertical-align: middle;\n",
              "    }\n",
              "\n",
              "    .dataframe tbody tr th {\n",
              "        vertical-align: top;\n",
              "    }\n",
              "\n",
              "    .dataframe thead th {\n",
              "        text-align: right;\n",
              "    }\n",
              "</style>\n",
              "<table border=\"1\" class=\"dataframe\">\n",
              "  <thead>\n",
              "    <tr style=\"text-align: right;\">\n",
              "      <th></th>\n",
              "      <th>Order ID</th>\n",
              "      <th>Product</th>\n",
              "      <th>Quantity Ordered</th>\n",
              "      <th>Price Each</th>\n",
              "      <th>Order Date</th>\n",
              "      <th>Purchase Address</th>\n",
              "    </tr>\n",
              "  </thead>\n",
              "  <tbody>\n",
              "    <tr>\n",
              "      <th>0</th>\n",
              "      <td>141234.0</td>\n",
              "      <td>iPhone</td>\n",
              "      <td>1.0</td>\n",
              "      <td>700.00</td>\n",
              "      <td>1/22/2019 21:25</td>\n",
              "      <td>944 Walnut St, Boston, MA 02215</td>\n",
              "    </tr>\n",
              "    <tr>\n",
              "      <th>1</th>\n",
              "      <td>141235.0</td>\n",
              "      <td>Lightning Charging Cable</td>\n",
              "      <td>1.0</td>\n",
              "      <td>14.95</td>\n",
              "      <td>1/28/2019 14:15</td>\n",
              "      <td>185 Maple St, Portland, OR 97035</td>\n",
              "    </tr>\n",
              "    <tr>\n",
              "      <th>2</th>\n",
              "      <td>141236.0</td>\n",
              "      <td>Wired Headphones</td>\n",
              "      <td>2.0</td>\n",
              "      <td>11.99</td>\n",
              "      <td>1/17/2019 13:33</td>\n",
              "      <td>538 Adams St, San Francisco, CA 94016</td>\n",
              "    </tr>\n",
              "    <tr>\n",
              "      <th>3</th>\n",
              "      <td>141237.0</td>\n",
              "      <td>27in FHD Monitor</td>\n",
              "      <td>1.0</td>\n",
              "      <td>149.99</td>\n",
              "      <td>1/5/2019 20:33</td>\n",
              "      <td>738 10th St, Los Angeles, CA 90001</td>\n",
              "    </tr>\n",
              "    <tr>\n",
              "      <th>4</th>\n",
              "      <td>141238.0</td>\n",
              "      <td>Wired Headphones</td>\n",
              "      <td>1.0</td>\n",
              "      <td>11.99</td>\n",
              "      <td>1/25/2019 11:59</td>\n",
              "      <td>387 10th St, Austin, TX 73301</td>\n",
              "    </tr>\n",
              "    <tr>\n",
              "      <th>...</th>\n",
              "      <td>...</td>\n",
              "      <td>...</td>\n",
              "      <td>...</td>\n",
              "      <td>...</td>\n",
              "      <td>...</td>\n",
              "      <td>...</td>\n",
              "    </tr>\n",
              "    <tr>\n",
              "      <th>186845</th>\n",
              "      <td>319666.0</td>\n",
              "      <td>Lightning Charging Cable</td>\n",
              "      <td>1.0</td>\n",
              "      <td>14.95</td>\n",
              "      <td>12/11/2019 20:58</td>\n",
              "      <td>14 Madison St, San Francisco, CA 94016</td>\n",
              "    </tr>\n",
              "    <tr>\n",
              "      <th>186846</th>\n",
              "      <td>319667.0</td>\n",
              "      <td>AA Batteries (4-pack)</td>\n",
              "      <td>2.0</td>\n",
              "      <td>3.84</td>\n",
              "      <td>12/1/2019 12:01</td>\n",
              "      <td>549 Willow St, Los Angeles, CA 90001</td>\n",
              "    </tr>\n",
              "    <tr>\n",
              "      <th>186847</th>\n",
              "      <td>319668.0</td>\n",
              "      <td>Vareebadd Phone</td>\n",
              "      <td>1.0</td>\n",
              "      <td>400.00</td>\n",
              "      <td>12/9/2019 6:43</td>\n",
              "      <td>273 Wilson St, Seattle, WA 98101</td>\n",
              "    </tr>\n",
              "    <tr>\n",
              "      <th>186848</th>\n",
              "      <td>319669.0</td>\n",
              "      <td>Wired Headphones</td>\n",
              "      <td>1.0</td>\n",
              "      <td>11.99</td>\n",
              "      <td>12/3/2019 10:39</td>\n",
              "      <td>778 River St, Dallas, TX 75001</td>\n",
              "    </tr>\n",
              "    <tr>\n",
              "      <th>186849</th>\n",
              "      <td>319670.0</td>\n",
              "      <td>Bose SoundSport Headphones</td>\n",
              "      <td>1.0</td>\n",
              "      <td>99.99</td>\n",
              "      <td>12/21/2019 21:45</td>\n",
              "      <td>747 Chestnut St, Los Angeles, CA 90001</td>\n",
              "    </tr>\n",
              "  </tbody>\n",
              "</table>\n",
              "<p>186850 rows × 6 columns</p>\n",
              "</div>\n",
              "      <button class=\"colab-df-convert\" onclick=\"convertToInteractive('df-4b6be83c-f0ec-4ad3-9808-923894fd3ed1')\"\n",
              "              title=\"Convert this dataframe to an interactive table.\"\n",
              "              style=\"display:none;\">\n",
              "        \n",
              "  <svg xmlns=\"http://www.w3.org/2000/svg\" height=\"24px\"viewBox=\"0 0 24 24\"\n",
              "       width=\"24px\">\n",
              "    <path d=\"M0 0h24v24H0V0z\" fill=\"none\"/>\n",
              "    <path d=\"M18.56 5.44l.94 2.06.94-2.06 2.06-.94-2.06-.94-.94-2.06-.94 2.06-2.06.94zm-11 1L8.5 8.5l.94-2.06 2.06-.94-2.06-.94L8.5 2.5l-.94 2.06-2.06.94zm10 10l.94 2.06.94-2.06 2.06-.94-2.06-.94-.94-2.06-.94 2.06-2.06.94z\"/><path d=\"M17.41 7.96l-1.37-1.37c-.4-.4-.92-.59-1.43-.59-.52 0-1.04.2-1.43.59L10.3 9.45l-7.72 7.72c-.78.78-.78 2.05 0 2.83L4 21.41c.39.39.9.59 1.41.59.51 0 1.02-.2 1.41-.59l7.78-7.78 2.81-2.81c.8-.78.8-2.07 0-2.86zM5.41 20L4 18.59l7.72-7.72 1.47 1.35L5.41 20z\"/>\n",
              "  </svg>\n",
              "      </button>\n",
              "      \n",
              "  <style>\n",
              "    .colab-df-container {\n",
              "      display:flex;\n",
              "      flex-wrap:wrap;\n",
              "      gap: 12px;\n",
              "    }\n",
              "\n",
              "    .colab-df-convert {\n",
              "      background-color: #E8F0FE;\n",
              "      border: none;\n",
              "      border-radius: 50%;\n",
              "      cursor: pointer;\n",
              "      display: none;\n",
              "      fill: #1967D2;\n",
              "      height: 32px;\n",
              "      padding: 0 0 0 0;\n",
              "      width: 32px;\n",
              "    }\n",
              "\n",
              "    .colab-df-convert:hover {\n",
              "      background-color: #E2EBFA;\n",
              "      box-shadow: 0px 1px 2px rgba(60, 64, 67, 0.3), 0px 1px 3px 1px rgba(60, 64, 67, 0.15);\n",
              "      fill: #174EA6;\n",
              "    }\n",
              "\n",
              "    [theme=dark] .colab-df-convert {\n",
              "      background-color: #3B4455;\n",
              "      fill: #D2E3FC;\n",
              "    }\n",
              "\n",
              "    [theme=dark] .colab-df-convert:hover {\n",
              "      background-color: #434B5C;\n",
              "      box-shadow: 0px 1px 3px 1px rgba(0, 0, 0, 0.15);\n",
              "      filter: drop-shadow(0px 1px 2px rgba(0, 0, 0, 0.3));\n",
              "      fill: #FFFFFF;\n",
              "    }\n",
              "  </style>\n",
              "\n",
              "      <script>\n",
              "        const buttonEl =\n",
              "          document.querySelector('#df-4b6be83c-f0ec-4ad3-9808-923894fd3ed1 button.colab-df-convert');\n",
              "        buttonEl.style.display =\n",
              "          google.colab.kernel.accessAllowed ? 'block' : 'none';\n",
              "\n",
              "        async function convertToInteractive(key) {\n",
              "          const element = document.querySelector('#df-4b6be83c-f0ec-4ad3-9808-923894fd3ed1');\n",
              "          const dataTable =\n",
              "            await google.colab.kernel.invokeFunction('convertToInteractive',\n",
              "                                                     [key], {});\n",
              "          if (!dataTable) return;\n",
              "\n",
              "          const docLinkHtml = 'Like what you see? Visit the ' +\n",
              "            '<a target=\"_blank\" href=https://colab.research.google.com/notebooks/data_table.ipynb>data table notebook</a>'\n",
              "            + ' to learn more about interactive tables.';\n",
              "          element.innerHTML = '';\n",
              "          dataTable['output_type'] = 'display_data';\n",
              "          await google.colab.output.renderOutput(dataTable, element);\n",
              "          const docLink = document.createElement('div');\n",
              "          docLink.innerHTML = docLinkHtml;\n",
              "          element.appendChild(docLink);\n",
              "        }\n",
              "      </script>\n",
              "    </div>\n",
              "  </div>\n",
              "  "
            ]
          },
          "metadata": {},
          "execution_count": 7
        }
      ]
    },
    {
      "cell_type": "code",
      "source": [
        "num_missing = updated_df.isna().sum()\n",
        "num_missing"
      ],
      "metadata": {
        "colab": {
          "base_uri": "https://localhost:8080/"
        },
        "id": "dkm70ABr7J7X",
        "outputId": "c1b9cf5a-9ff1-47f8-fdc8-80577e113723"
      },
      "execution_count": 8,
      "outputs": [
        {
          "output_type": "execute_result",
          "data": {
            "text/plain": [
              "Order ID            900\n",
              "Product             900\n",
              "Quantity Ordered    900\n",
              "Price Each          900\n",
              "Order Date          900\n",
              "Purchase Address    900\n",
              "dtype: int64"
            ]
          },
          "metadata": {},
          "execution_count": 8
        }
      ]
    },
    {
      "cell_type": "code",
      "source": [
        "# removing NaN missing values from updated data frame\n",
        "updated_df = updated_df.dropna()\n"
      ],
      "metadata": {
        "id": "ktpG6THm7atr"
      },
      "execution_count": 9,
      "outputs": []
    },
    {
      "cell_type": "code",
      "source": [
        "num_missing = updated_df.isna().sum()\n",
        "num_missing"
      ],
      "metadata": {
        "colab": {
          "base_uri": "https://localhost:8080/"
        },
        "id": "t0yRksnj7qBi",
        "outputId": "e877d24d-0f84-4207-da45-a777329163d5"
      },
      "execution_count": 10,
      "outputs": [
        {
          "output_type": "execute_result",
          "data": {
            "text/plain": [
              "Order ID            0\n",
              "Product             0\n",
              "Quantity Ordered    0\n",
              "Price Each          0\n",
              "Order Date          0\n",
              "Purchase Address    0\n",
              "dtype: int64"
            ]
          },
          "metadata": {},
          "execution_count": 10
        }
      ]
    },
    {
      "cell_type": "code",
      "source": [
        "updated_df.dtypes"
      ],
      "metadata": {
        "colab": {
          "base_uri": "https://localhost:8080/"
        },
        "id": "qt-iYFWb7rzl",
        "outputId": "6016b709-7625-4691-b2b7-b581e4c2d3db"
      },
      "execution_count": 11,
      "outputs": [
        {
          "output_type": "execute_result",
          "data": {
            "text/plain": [
              "Order ID            float64\n",
              "Product              object\n",
              "Quantity Ordered    float64\n",
              "Price Each          float64\n",
              "Order Date           object\n",
              "Purchase Address     object\n",
              "dtype: object"
            ]
          },
          "metadata": {},
          "execution_count": 11
        }
      ]
    },
    {
      "cell_type": "code",
      "source": [
        "# converting quantity order and Price each into numeric only\n",
        "updated_df['Quantity Ordered'] = updated_df['Quantity Ordered'].astype(int)\n",
        "updated_df['Price Each'] = updated_df['Price Each'].astype(float)"
      ],
      "metadata": {
        "id": "srFHED7C74jH"
      },
      "execution_count": 14,
      "outputs": []
    },
    {
      "cell_type": "code",
      "source": [
        "num_missing = updated_df.isna().sum()\n",
        "num_missing"
      ],
      "metadata": {
        "colab": {
          "base_uri": "https://localhost:8080/"
        },
        "id": "jzg0mdLo8ZlO",
        "outputId": "aa8cc568-c91e-4127-dd94-12d966b23f45"
      },
      "execution_count": 13,
      "outputs": [
        {
          "output_type": "execute_result",
          "data": {
            "text/plain": [
              "Order ID            0\n",
              "Product             0\n",
              "Quantity Ordered    0\n",
              "Price Each          0\n",
              "Order Date          0\n",
              "Purchase Address    0\n",
              "dtype: int64"
            ]
          },
          "metadata": {},
          "execution_count": 13
        }
      ]
    },
    {
      "cell_type": "code",
      "source": [
        "#Creating a new column named Month from Ordered Date of updated  dataframe and converting it to integer as data type\n",
        "# Converting Order Date column to datetime format\n",
        "\n",
        "updated_df['Order Date'] = pd.to_datetime(updated_df['Order Date'], format='%m/%d/%Y %H:%M')\n",
        "\n",
        "# Extracting month from Order Date and creating a new column\n",
        "updated_df['Month'] = updated_df['Order Date'].dt.month\n",
        "updated_df"
      ],
      "metadata": {
        "colab": {
          "base_uri": "https://localhost:8080/",
          "height": 424
        },
        "id": "Pp14Da6P8cma",
        "outputId": "4590f9fa-5284-4417-e31d-335ddb10cdda"
      },
      "execution_count": 15,
      "outputs": [
        {
          "output_type": "execute_result",
          "data": {
            "text/plain": [
              "        Order ID                     Product  Quantity Ordered  Price Each  \\\n",
              "0       141234.0                      iPhone                 1      700.00   \n",
              "1       141235.0    Lightning Charging Cable                 1       14.95   \n",
              "2       141236.0            Wired Headphones                 2       11.99   \n",
              "3       141237.0            27in FHD Monitor                 1      149.99   \n",
              "4       141238.0            Wired Headphones                 1       11.99   \n",
              "...          ...                         ...               ...         ...   \n",
              "186845  319666.0    Lightning Charging Cable                 1       14.95   \n",
              "186846  319667.0       AA Batteries (4-pack)                 2        3.84   \n",
              "186847  319668.0             Vareebadd Phone                 1      400.00   \n",
              "186848  319669.0            Wired Headphones                 1       11.99   \n",
              "186849  319670.0  Bose SoundSport Headphones                 1       99.99   \n",
              "\n",
              "                Order Date                        Purchase Address  Month  \n",
              "0      2019-01-22 21:25:00         944 Walnut St, Boston, MA 02215      1  \n",
              "1      2019-01-28 14:15:00        185 Maple St, Portland, OR 97035      1  \n",
              "2      2019-01-17 13:33:00   538 Adams St, San Francisco, CA 94016      1  \n",
              "3      2019-01-05 20:33:00      738 10th St, Los Angeles, CA 90001      1  \n",
              "4      2019-01-25 11:59:00           387 10th St, Austin, TX 73301      1  \n",
              "...                    ...                                     ...    ...  \n",
              "186845 2019-12-11 20:58:00  14 Madison St, San Francisco, CA 94016     12  \n",
              "186846 2019-12-01 12:01:00    549 Willow St, Los Angeles, CA 90001     12  \n",
              "186847 2019-12-09 06:43:00        273 Wilson St, Seattle, WA 98101     12  \n",
              "186848 2019-12-03 10:39:00          778 River St, Dallas, TX 75001     12  \n",
              "186849 2019-12-21 21:45:00  747 Chestnut St, Los Angeles, CA 90001     12  \n",
              "\n",
              "[185950 rows x 7 columns]"
            ],
            "text/html": [
              "\n",
              "  <div id=\"df-d9430252-bb45-408e-ba18-59afd5e12ca7\">\n",
              "    <div class=\"colab-df-container\">\n",
              "      <div>\n",
              "<style scoped>\n",
              "    .dataframe tbody tr th:only-of-type {\n",
              "        vertical-align: middle;\n",
              "    }\n",
              "\n",
              "    .dataframe tbody tr th {\n",
              "        vertical-align: top;\n",
              "    }\n",
              "\n",
              "    .dataframe thead th {\n",
              "        text-align: right;\n",
              "    }\n",
              "</style>\n",
              "<table border=\"1\" class=\"dataframe\">\n",
              "  <thead>\n",
              "    <tr style=\"text-align: right;\">\n",
              "      <th></th>\n",
              "      <th>Order ID</th>\n",
              "      <th>Product</th>\n",
              "      <th>Quantity Ordered</th>\n",
              "      <th>Price Each</th>\n",
              "      <th>Order Date</th>\n",
              "      <th>Purchase Address</th>\n",
              "      <th>Month</th>\n",
              "    </tr>\n",
              "  </thead>\n",
              "  <tbody>\n",
              "    <tr>\n",
              "      <th>0</th>\n",
              "      <td>141234.0</td>\n",
              "      <td>iPhone</td>\n",
              "      <td>1</td>\n",
              "      <td>700.00</td>\n",
              "      <td>2019-01-22 21:25:00</td>\n",
              "      <td>944 Walnut St, Boston, MA 02215</td>\n",
              "      <td>1</td>\n",
              "    </tr>\n",
              "    <tr>\n",
              "      <th>1</th>\n",
              "      <td>141235.0</td>\n",
              "      <td>Lightning Charging Cable</td>\n",
              "      <td>1</td>\n",
              "      <td>14.95</td>\n",
              "      <td>2019-01-28 14:15:00</td>\n",
              "      <td>185 Maple St, Portland, OR 97035</td>\n",
              "      <td>1</td>\n",
              "    </tr>\n",
              "    <tr>\n",
              "      <th>2</th>\n",
              "      <td>141236.0</td>\n",
              "      <td>Wired Headphones</td>\n",
              "      <td>2</td>\n",
              "      <td>11.99</td>\n",
              "      <td>2019-01-17 13:33:00</td>\n",
              "      <td>538 Adams St, San Francisco, CA 94016</td>\n",
              "      <td>1</td>\n",
              "    </tr>\n",
              "    <tr>\n",
              "      <th>3</th>\n",
              "      <td>141237.0</td>\n",
              "      <td>27in FHD Monitor</td>\n",
              "      <td>1</td>\n",
              "      <td>149.99</td>\n",
              "      <td>2019-01-05 20:33:00</td>\n",
              "      <td>738 10th St, Los Angeles, CA 90001</td>\n",
              "      <td>1</td>\n",
              "    </tr>\n",
              "    <tr>\n",
              "      <th>4</th>\n",
              "      <td>141238.0</td>\n",
              "      <td>Wired Headphones</td>\n",
              "      <td>1</td>\n",
              "      <td>11.99</td>\n",
              "      <td>2019-01-25 11:59:00</td>\n",
              "      <td>387 10th St, Austin, TX 73301</td>\n",
              "      <td>1</td>\n",
              "    </tr>\n",
              "    <tr>\n",
              "      <th>...</th>\n",
              "      <td>...</td>\n",
              "      <td>...</td>\n",
              "      <td>...</td>\n",
              "      <td>...</td>\n",
              "      <td>...</td>\n",
              "      <td>...</td>\n",
              "      <td>...</td>\n",
              "    </tr>\n",
              "    <tr>\n",
              "      <th>186845</th>\n",
              "      <td>319666.0</td>\n",
              "      <td>Lightning Charging Cable</td>\n",
              "      <td>1</td>\n",
              "      <td>14.95</td>\n",
              "      <td>2019-12-11 20:58:00</td>\n",
              "      <td>14 Madison St, San Francisco, CA 94016</td>\n",
              "      <td>12</td>\n",
              "    </tr>\n",
              "    <tr>\n",
              "      <th>186846</th>\n",
              "      <td>319667.0</td>\n",
              "      <td>AA Batteries (4-pack)</td>\n",
              "      <td>2</td>\n",
              "      <td>3.84</td>\n",
              "      <td>2019-12-01 12:01:00</td>\n",
              "      <td>549 Willow St, Los Angeles, CA 90001</td>\n",
              "      <td>12</td>\n",
              "    </tr>\n",
              "    <tr>\n",
              "      <th>186847</th>\n",
              "      <td>319668.0</td>\n",
              "      <td>Vareebadd Phone</td>\n",
              "      <td>1</td>\n",
              "      <td>400.00</td>\n",
              "      <td>2019-12-09 06:43:00</td>\n",
              "      <td>273 Wilson St, Seattle, WA 98101</td>\n",
              "      <td>12</td>\n",
              "    </tr>\n",
              "    <tr>\n",
              "      <th>186848</th>\n",
              "      <td>319669.0</td>\n",
              "      <td>Wired Headphones</td>\n",
              "      <td>1</td>\n",
              "      <td>11.99</td>\n",
              "      <td>2019-12-03 10:39:00</td>\n",
              "      <td>778 River St, Dallas, TX 75001</td>\n",
              "      <td>12</td>\n",
              "    </tr>\n",
              "    <tr>\n",
              "      <th>186849</th>\n",
              "      <td>319670.0</td>\n",
              "      <td>Bose SoundSport Headphones</td>\n",
              "      <td>1</td>\n",
              "      <td>99.99</td>\n",
              "      <td>2019-12-21 21:45:00</td>\n",
              "      <td>747 Chestnut St, Los Angeles, CA 90001</td>\n",
              "      <td>12</td>\n",
              "    </tr>\n",
              "  </tbody>\n",
              "</table>\n",
              "<p>185950 rows × 7 columns</p>\n",
              "</div>\n",
              "      <button class=\"colab-df-convert\" onclick=\"convertToInteractive('df-d9430252-bb45-408e-ba18-59afd5e12ca7')\"\n",
              "              title=\"Convert this dataframe to an interactive table.\"\n",
              "              style=\"display:none;\">\n",
              "        \n",
              "  <svg xmlns=\"http://www.w3.org/2000/svg\" height=\"24px\"viewBox=\"0 0 24 24\"\n",
              "       width=\"24px\">\n",
              "    <path d=\"M0 0h24v24H0V0z\" fill=\"none\"/>\n",
              "    <path d=\"M18.56 5.44l.94 2.06.94-2.06 2.06-.94-2.06-.94-.94-2.06-.94 2.06-2.06.94zm-11 1L8.5 8.5l.94-2.06 2.06-.94-2.06-.94L8.5 2.5l-.94 2.06-2.06.94zm10 10l.94 2.06.94-2.06 2.06-.94-2.06-.94-.94-2.06-.94 2.06-2.06.94z\"/><path d=\"M17.41 7.96l-1.37-1.37c-.4-.4-.92-.59-1.43-.59-.52 0-1.04.2-1.43.59L10.3 9.45l-7.72 7.72c-.78.78-.78 2.05 0 2.83L4 21.41c.39.39.9.59 1.41.59.51 0 1.02-.2 1.41-.59l7.78-7.78 2.81-2.81c.8-.78.8-2.07 0-2.86zM5.41 20L4 18.59l7.72-7.72 1.47 1.35L5.41 20z\"/>\n",
              "  </svg>\n",
              "      </button>\n",
              "      \n",
              "  <style>\n",
              "    .colab-df-container {\n",
              "      display:flex;\n",
              "      flex-wrap:wrap;\n",
              "      gap: 12px;\n",
              "    }\n",
              "\n",
              "    .colab-df-convert {\n",
              "      background-color: #E8F0FE;\n",
              "      border: none;\n",
              "      border-radius: 50%;\n",
              "      cursor: pointer;\n",
              "      display: none;\n",
              "      fill: #1967D2;\n",
              "      height: 32px;\n",
              "      padding: 0 0 0 0;\n",
              "      width: 32px;\n",
              "    }\n",
              "\n",
              "    .colab-df-convert:hover {\n",
              "      background-color: #E2EBFA;\n",
              "      box-shadow: 0px 1px 2px rgba(60, 64, 67, 0.3), 0px 1px 3px 1px rgba(60, 64, 67, 0.15);\n",
              "      fill: #174EA6;\n",
              "    }\n",
              "\n",
              "    [theme=dark] .colab-df-convert {\n",
              "      background-color: #3B4455;\n",
              "      fill: #D2E3FC;\n",
              "    }\n",
              "\n",
              "    [theme=dark] .colab-df-convert:hover {\n",
              "      background-color: #434B5C;\n",
              "      box-shadow: 0px 1px 3px 1px rgba(0, 0, 0, 0.15);\n",
              "      filter: drop-shadow(0px 1px 2px rgba(0, 0, 0, 0.3));\n",
              "      fill: #FFFFFF;\n",
              "    }\n",
              "  </style>\n",
              "\n",
              "      <script>\n",
              "        const buttonEl =\n",
              "          document.querySelector('#df-d9430252-bb45-408e-ba18-59afd5e12ca7 button.colab-df-convert');\n",
              "        buttonEl.style.display =\n",
              "          google.colab.kernel.accessAllowed ? 'block' : 'none';\n",
              "\n",
              "        async function convertToInteractive(key) {\n",
              "          const element = document.querySelector('#df-d9430252-bb45-408e-ba18-59afd5e12ca7');\n",
              "          const dataTable =\n",
              "            await google.colab.kernel.invokeFunction('convertToInteractive',\n",
              "                                                     [key], {});\n",
              "          if (!dataTable) return;\n",
              "\n",
              "          const docLinkHtml = 'Like what you see? Visit the ' +\n",
              "            '<a target=\"_blank\" href=https://colab.research.google.com/notebooks/data_table.ipynb>data table notebook</a>'\n",
              "            + ' to learn more about interactive tables.';\n",
              "          element.innerHTML = '';\n",
              "          dataTable['output_type'] = 'display_data';\n",
              "          await google.colab.output.renderOutput(dataTable, element);\n",
              "          const docLink = document.createElement('div');\n",
              "          docLink.innerHTML = docLinkHtml;\n",
              "          element.appendChild(docLink);\n",
              "        }\n",
              "      </script>\n",
              "    </div>\n",
              "  </div>\n",
              "  "
            ]
          },
          "metadata": {},
          "execution_count": 15
        }
      ]
    },
    {
      "cell_type": "code",
      "source": [
        "updated_df.dtypes\n"
      ],
      "metadata": {
        "colab": {
          "base_uri": "https://localhost:8080/"
        },
        "id": "pE2nuhR28-Gv",
        "outputId": "ecdb2b7a-8928-4f90-e3f4-bced94442eef"
      },
      "execution_count": 16,
      "outputs": [
        {
          "output_type": "execute_result",
          "data": {
            "text/plain": [
              "Order ID                   float64\n",
              "Product                     object\n",
              "Quantity Ordered             int64\n",
              "Price Each                 float64\n",
              "Order Date          datetime64[ns]\n",
              "Purchase Address            object\n",
              "Month                        int64\n",
              "dtype: object"
            ]
          },
          "metadata": {},
          "execution_count": 16
        }
      ]
    },
    {
      "cell_type": "code",
      "source": [
        "#Creating a new column named City from Purchase Address based on the value in updated dataframe.\t\n",
        "address_df = pd.DataFrame({'address': updated_df[\"Purchase Address\"]})\n",
        "\n",
        "# Using str.split() to split the \"address\" column into City, state zip columns\n",
        "address_df[['street', 'City', 'state zip']] = address_df['address'].str.split(', ', expand=True)\n",
        "updated_df = updated_df.join(address_df[\"City\"])\n"
      ],
      "metadata": {
        "id": "unaCxuzK9E-J"
      },
      "execution_count": 17,
      "outputs": []
    },
    {
      "cell_type": "code",
      "source": [
        "updated_df.head()"
      ],
      "metadata": {
        "colab": {
          "base_uri": "https://localhost:8080/",
          "height": 206
        },
        "id": "WCvJidFc-Zx6",
        "outputId": "72f0c36d-fb87-4bd0-993f-080ddacba7a0"
      },
      "execution_count": 19,
      "outputs": [
        {
          "output_type": "execute_result",
          "data": {
            "text/plain": [
              "   Order ID                   Product  Quantity Ordered  Price Each  \\\n",
              "0  141234.0                    iPhone                 1      700.00   \n",
              "1  141235.0  Lightning Charging Cable                 1       14.95   \n",
              "2  141236.0          Wired Headphones                 2       11.99   \n",
              "3  141237.0          27in FHD Monitor                 1      149.99   \n",
              "4  141238.0          Wired Headphones                 1       11.99   \n",
              "\n",
              "           Order Date                       Purchase Address  Month  \\\n",
              "0 2019-01-22 21:25:00        944 Walnut St, Boston, MA 02215      1   \n",
              "1 2019-01-28 14:15:00       185 Maple St, Portland, OR 97035      1   \n",
              "2 2019-01-17 13:33:00  538 Adams St, San Francisco, CA 94016      1   \n",
              "3 2019-01-05 20:33:00     738 10th St, Los Angeles, CA 90001      1   \n",
              "4 2019-01-25 11:59:00          387 10th St, Austin, TX 73301      1   \n",
              "\n",
              "            City  \n",
              "0         Boston  \n",
              "1       Portland  \n",
              "2  San Francisco  \n",
              "3    Los Angeles  \n",
              "4         Austin  "
            ],
            "text/html": [
              "\n",
              "  <div id=\"df-ade56bc7-736f-4d6e-85d9-a281d5d7b0d0\">\n",
              "    <div class=\"colab-df-container\">\n",
              "      <div>\n",
              "<style scoped>\n",
              "    .dataframe tbody tr th:only-of-type {\n",
              "        vertical-align: middle;\n",
              "    }\n",
              "\n",
              "    .dataframe tbody tr th {\n",
              "        vertical-align: top;\n",
              "    }\n",
              "\n",
              "    .dataframe thead th {\n",
              "        text-align: right;\n",
              "    }\n",
              "</style>\n",
              "<table border=\"1\" class=\"dataframe\">\n",
              "  <thead>\n",
              "    <tr style=\"text-align: right;\">\n",
              "      <th></th>\n",
              "      <th>Order ID</th>\n",
              "      <th>Product</th>\n",
              "      <th>Quantity Ordered</th>\n",
              "      <th>Price Each</th>\n",
              "      <th>Order Date</th>\n",
              "      <th>Purchase Address</th>\n",
              "      <th>Month</th>\n",
              "      <th>City</th>\n",
              "    </tr>\n",
              "  </thead>\n",
              "  <tbody>\n",
              "    <tr>\n",
              "      <th>0</th>\n",
              "      <td>141234.0</td>\n",
              "      <td>iPhone</td>\n",
              "      <td>1</td>\n",
              "      <td>700.00</td>\n",
              "      <td>2019-01-22 21:25:00</td>\n",
              "      <td>944 Walnut St, Boston, MA 02215</td>\n",
              "      <td>1</td>\n",
              "      <td>Boston</td>\n",
              "    </tr>\n",
              "    <tr>\n",
              "      <th>1</th>\n",
              "      <td>141235.0</td>\n",
              "      <td>Lightning Charging Cable</td>\n",
              "      <td>1</td>\n",
              "      <td>14.95</td>\n",
              "      <td>2019-01-28 14:15:00</td>\n",
              "      <td>185 Maple St, Portland, OR 97035</td>\n",
              "      <td>1</td>\n",
              "      <td>Portland</td>\n",
              "    </tr>\n",
              "    <tr>\n",
              "      <th>2</th>\n",
              "      <td>141236.0</td>\n",
              "      <td>Wired Headphones</td>\n",
              "      <td>2</td>\n",
              "      <td>11.99</td>\n",
              "      <td>2019-01-17 13:33:00</td>\n",
              "      <td>538 Adams St, San Francisco, CA 94016</td>\n",
              "      <td>1</td>\n",
              "      <td>San Francisco</td>\n",
              "    </tr>\n",
              "    <tr>\n",
              "      <th>3</th>\n",
              "      <td>141237.0</td>\n",
              "      <td>27in FHD Monitor</td>\n",
              "      <td>1</td>\n",
              "      <td>149.99</td>\n",
              "      <td>2019-01-05 20:33:00</td>\n",
              "      <td>738 10th St, Los Angeles, CA 90001</td>\n",
              "      <td>1</td>\n",
              "      <td>Los Angeles</td>\n",
              "    </tr>\n",
              "    <tr>\n",
              "      <th>4</th>\n",
              "      <td>141238.0</td>\n",
              "      <td>Wired Headphones</td>\n",
              "      <td>1</td>\n",
              "      <td>11.99</td>\n",
              "      <td>2019-01-25 11:59:00</td>\n",
              "      <td>387 10th St, Austin, TX 73301</td>\n",
              "      <td>1</td>\n",
              "      <td>Austin</td>\n",
              "    </tr>\n",
              "  </tbody>\n",
              "</table>\n",
              "</div>\n",
              "      <button class=\"colab-df-convert\" onclick=\"convertToInteractive('df-ade56bc7-736f-4d6e-85d9-a281d5d7b0d0')\"\n",
              "              title=\"Convert this dataframe to an interactive table.\"\n",
              "              style=\"display:none;\">\n",
              "        \n",
              "  <svg xmlns=\"http://www.w3.org/2000/svg\" height=\"24px\"viewBox=\"0 0 24 24\"\n",
              "       width=\"24px\">\n",
              "    <path d=\"M0 0h24v24H0V0z\" fill=\"none\"/>\n",
              "    <path d=\"M18.56 5.44l.94 2.06.94-2.06 2.06-.94-2.06-.94-.94-2.06-.94 2.06-2.06.94zm-11 1L8.5 8.5l.94-2.06 2.06-.94-2.06-.94L8.5 2.5l-.94 2.06-2.06.94zm10 10l.94 2.06.94-2.06 2.06-.94-2.06-.94-.94-2.06-.94 2.06-2.06.94z\"/><path d=\"M17.41 7.96l-1.37-1.37c-.4-.4-.92-.59-1.43-.59-.52 0-1.04.2-1.43.59L10.3 9.45l-7.72 7.72c-.78.78-.78 2.05 0 2.83L4 21.41c.39.39.9.59 1.41.59.51 0 1.02-.2 1.41-.59l7.78-7.78 2.81-2.81c.8-.78.8-2.07 0-2.86zM5.41 20L4 18.59l7.72-7.72 1.47 1.35L5.41 20z\"/>\n",
              "  </svg>\n",
              "      </button>\n",
              "      \n",
              "  <style>\n",
              "    .colab-df-container {\n",
              "      display:flex;\n",
              "      flex-wrap:wrap;\n",
              "      gap: 12px;\n",
              "    }\n",
              "\n",
              "    .colab-df-convert {\n",
              "      background-color: #E8F0FE;\n",
              "      border: none;\n",
              "      border-radius: 50%;\n",
              "      cursor: pointer;\n",
              "      display: none;\n",
              "      fill: #1967D2;\n",
              "      height: 32px;\n",
              "      padding: 0 0 0 0;\n",
              "      width: 32px;\n",
              "    }\n",
              "\n",
              "    .colab-df-convert:hover {\n",
              "      background-color: #E2EBFA;\n",
              "      box-shadow: 0px 1px 2px rgba(60, 64, 67, 0.3), 0px 1px 3px 1px rgba(60, 64, 67, 0.15);\n",
              "      fill: #174EA6;\n",
              "    }\n",
              "\n",
              "    [theme=dark] .colab-df-convert {\n",
              "      background-color: #3B4455;\n",
              "      fill: #D2E3FC;\n",
              "    }\n",
              "\n",
              "    [theme=dark] .colab-df-convert:hover {\n",
              "      background-color: #434B5C;\n",
              "      box-shadow: 0px 1px 3px 1px rgba(0, 0, 0, 0.15);\n",
              "      filter: drop-shadow(0px 1px 2px rgba(0, 0, 0, 0.3));\n",
              "      fill: #FFFFFF;\n",
              "    }\n",
              "  </style>\n",
              "\n",
              "      <script>\n",
              "        const buttonEl =\n",
              "          document.querySelector('#df-ade56bc7-736f-4d6e-85d9-a281d5d7b0d0 button.colab-df-convert');\n",
              "        buttonEl.style.display =\n",
              "          google.colab.kernel.accessAllowed ? 'block' : 'none';\n",
              "\n",
              "        async function convertToInteractive(key) {\n",
              "          const element = document.querySelector('#df-ade56bc7-736f-4d6e-85d9-a281d5d7b0d0');\n",
              "          const dataTable =\n",
              "            await google.colab.kernel.invokeFunction('convertToInteractive',\n",
              "                                                     [key], {});\n",
              "          if (!dataTable) return;\n",
              "\n",
              "          const docLinkHtml = 'Like what you see? Visit the ' +\n",
              "            '<a target=\"_blank\" href=https://colab.research.google.com/notebooks/data_table.ipynb>data table notebook</a>'\n",
              "            + ' to learn more about interactive tables.';\n",
              "          element.innerHTML = '';\n",
              "          dataTable['output_type'] = 'display_data';\n",
              "          await google.colab.output.renderOutput(dataTable, element);\n",
              "          const docLink = document.createElement('div');\n",
              "          docLink.innerHTML = docLinkHtml;\n",
              "          element.appendChild(docLink);\n",
              "        }\n",
              "      </script>\n",
              "    </div>\n",
              "  </div>\n",
              "  "
            ]
          },
          "metadata": {},
          "execution_count": 19
        }
      ]
    },
    {
      "cell_type": "code",
      "source": [
        "#Showing summary statistics of sum, mean, standard deviation, skewness, and kurtosis of any chosen variable.\n",
        "\n",
        "stats = updated_df[\"Price Each\"].describe()\n",
        "price_each_skewness = skew(updated_df[\"Price Each\"])\n",
        "price_each_kurtosis = kurtosis(updated_df[\"Price Each\"])\n",
        "print(f\"{stats}, kurtosis of price each is{price_each_kurtosis},skewness if price each variable is {price_each_skewness}\")"
      ],
      "metadata": {
        "colab": {
          "base_uri": "https://localhost:8080/"
        },
        "id": "hIaFy6MX-be2",
        "outputId": "ef9d8359-14bb-4fc0-c060-ae982f889a8c"
      },
      "execution_count": 21,
      "outputs": [
        {
          "output_type": "stream",
          "name": "stdout",
          "text": [
            "count    185950.000000\n",
            "mean        184.399735\n",
            "std         332.731330\n",
            "min           2.990000\n",
            "25%          11.950000\n",
            "50%          14.950000\n",
            "75%         150.000000\n",
            "max        1700.000000\n",
            "Name: Price Each, dtype: float64, kurtosis of price each is9.094291533043448,skewness if price each variable is 2.872125560523709\n"
          ]
        }
      ]
    },
    {
      "cell_type": "code",
      "source": [
        "# Calculating the correlation matrix for the variables\n",
        "correlation_matrix = updated_df.corr()\n",
        "\n",
        "# Printing the correlation matrix\n",
        "print(correlation_matrix)"
      ],
      "metadata": {
        "colab": {
          "base_uri": "https://localhost:8080/"
        },
        "id": "CpfyeFMs_NLC",
        "outputId": "147fbc88-a74e-4d34-ef35-5d4ec537eeeb"
      },
      "execution_count": 22,
      "outputs": [
        {
          "output_type": "stream",
          "name": "stdout",
          "text": [
            "                  Order ID  Quantity Ordered  Price Each     Month\n",
            "Order ID          1.000000          0.000702   -0.002857  0.993063\n",
            "Quantity Ordered  0.000702          1.000000   -0.148272  0.000791\n",
            "Price Each       -0.002857         -0.148272    1.000000 -0.003375\n",
            "Month             0.993063          0.000791   -0.003375  1.000000\n"
          ]
        }
      ]
    },
    {
      "cell_type": "code",
      "source": [
        "# Grouping sales_data by month and summing it\n",
        "sales_by_month = updated_df.groupby('Month')['Price Each'].sum()\n",
        "\n",
        "# Finding the month with the highest sales\n",
        "best_month = sales_by_month.idxmax()\n",
        "\n",
        "# Calculating the total earnings in the best month\n",
        "earnings_in_best_month = sales_by_month.loc[best_month]\n",
        "\n",
        "print(\"The best sales month is\", best_month)\n",
        "print(\"Total earnings in the best sales month:\", earnings_in_best_month)\n",
        "\n",
        "\n",
        "\n",
        "# Creating a bar graph of the sales by month\n",
        "sales_by_month.plot(kind='bar')\n",
        "\n",
        "# Setting the x-label and y-label of the graph\n",
        "plt.xlabel('Month')\n",
        "plt.ylabel('Total sales in the month')\n",
        "plt.title('Sales by Month')\n",
        "\n",
        "# Show the graph\n",
        "plt.show()"
      ],
      "metadata": {
        "colab": {
          "base_uri": "https://localhost:8080/",
          "height": 511
        },
        "id": "NYpnwu0Z_2d5",
        "outputId": "45ee7cd9-8f5e-4057-9a85-5575c08c7e80"
      },
      "execution_count": 23,
      "outputs": [
        {
          "output_type": "stream",
          "name": "stdout",
          "text": [
            "The best sales month is 12\n",
            "Total earnings in the best sales month: 4588415.41\n"
          ]
        },
        {
          "output_type": "display_data",
          "data": {
            "text/plain": [
              "<Figure size 640x480 with 1 Axes>"
            ],
            "image/png": "[encoded data removed]"
          },
          "metadata": {}
        }
      ]
    },
    {
      "cell_type": "code",
      "source": [
        "# Finding city which sold the highest product\n",
        "# Groupping the data by city and summing it\n",
        "sales_by_city = updated_df.groupby('City')['Price Each'].sum()\n",
        "\n",
        "# Sorting the sales by city in descending order and taking the first row which is highest\n",
        "highest_sales_city = sales_by_city.sort_values(ascending=False).iloc[0]\n",
        "\n",
        "# Getting the name of the city with the highest sales\n",
        "city_with_highest_sales = sales_by_city[sales_by_city == highest_sales_city].index[0]\n",
        "\n",
        "# Printing the city with the highest sales\n",
        "print(f\"The city with the highest sales is {city_with_highest_sales}.\")\n"
      ],
      "metadata": {
        "colab": {
          "base_uri": "https://localhost:8080/"
        },
        "id": "B56-a-5sBi1i",
        "outputId": "4e0f96ce-f5f1-47ad-dfb6-da986f0e6089"
      },
      "execution_count": 27,
      "outputs": [
        {
          "output_type": "stream",
          "name": "stdout",
          "text": [
            "The city with the highest sales is San Francisco.\n"
          ]
        }
      ]
    },
    {
      "cell_type": "code",
      "source": [
        "# Groupping the data by product and calculating the total quantity ordered\n",
        "sales_by_product = updated_df.groupby('Product')['Quantity Ordered'].sum()\n",
        "\n",
        "# Sorting the sales by product in descending order and take the first row where it is highest\n",
        "most_sold_product = sales_by_product.sort_values(ascending=False).iloc[0]\n",
        "\n",
        "# Getting the name of the product that was sold the most\n",
        "product_name = sales_by_product[sales_by_product == most_sold_product].index[0]\n",
        "\n",
        "# Printing the product that was sold the most\n",
        "print(f\"The product that was sold the most is {product_name}.\")\n",
        "\n",
        "# Creating a bar plot of sales by product\n",
        "sales_by_product.plot(kind='bar', figsize=(16, 9))\n",
        "\n",
        "# Adding labels and title\n",
        "plt.xlabel('Product')\n",
        "plt.ylabel('Quantity Sold')\n",
        "plt.title('Sales by Product')\n",
        "\n",
        "# Show the plot\n",
        "plt.show()\n"
      ],
      "metadata": {
        "colab": {
          "base_uri": "https://localhost:8080/",
          "height": 942
        },
        "id": "eFDltzCICPvq",
        "outputId": "389f75ea-2841-470f-bc11-f2aec7ff6493"
      },
      "execution_count": 28,
      "outputs": [
        {
          "output_type": "stream",
          "name": "stdout",
          "text": [
            "The product that was sold the most is AAA Batteries (4-pack).\n"
          ]
        },
        {
          "output_type": "display_data",
          "data": {
            "text/plain": [
              "<Figure size 1600x900 with 1 Axes>"
            ],
            "image/png": "[encoded data removed]"
          },
          "metadata": {}
        }
      ]
    },
    {
      "cell_type": "code",
      "source": [
        "#showing histogram plot of Price Each variables\n",
        "variable=\"Price Each\"\n",
        "plt.hist(updated_df[variable], bins=25)\n",
        "plt.xlabel(variable)\n",
        "plt.ylabel('Frequency')\n",
        "plt.title('Histogram of ' + variable)\n",
        "plt.show()"
      ],
      "metadata": {
        "colab": {
          "base_uri": "https://localhost:8080/",
          "height": 472
        },
        "id": "7HwQ0LtKCitl",
        "outputId": "2477faba-f682-416b-a40c-6f57315510c5"
      },
      "execution_count": 29,
      "outputs": [
        {
          "output_type": "display_data",
          "data": {
            "text/plain": [
              "<Figure size 640x480 with 1 Axes>"
            ],
            "image/png": "[encoded data removed]"
          },
          "metadata": {}
        }
      ]
    },
    {
      "cell_type": "code",
      "source": [],
      "metadata": {
        "id": "DGTKw1vVCxNA"
      },
      "execution_count": null,
      "outputs": []
    }
  ]
}